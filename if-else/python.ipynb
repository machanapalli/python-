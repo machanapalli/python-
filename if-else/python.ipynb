{
 "cells": [
  {
   "cell_type": "code",
   "execution_count": 1,
   "metadata": {},
   "outputs": [
    {
     "name": "stdout",
     "output_type": "stream",
     "text": [
      "hi\n"
     ]
    }
   ],
   "source": [
    "print(\"hi\")"
   ]
  },
  {
   "cell_type": "code",
   "execution_count": 2,
   "metadata": {},
   "outputs": [
    {
     "ename": "ModuleNotFoundError",
     "evalue": "No module named 'numpy'",
     "output_type": "error",
     "traceback": [
      "\u001b[1;31m---------------------------------------------------------------------------\u001b[0m",
      "\u001b[1;31mModuleNotFoundError\u001b[0m                       Traceback (most recent call last)",
      "\u001b[1;32md:\\python_repos\\python-\\if-else\\python.ipynb Cell 2\u001b[0m line \u001b[0;36m1\n\u001b[1;32m----> <a href='vscode-notebook-cell:/d%3A/python_repos/python-/if-else/python.ipynb#W1sZmlsZQ%3D%3D?line=0'>1</a>\u001b[0m \u001b[39mimport\u001b[39;00m \u001b[39mnumpy\u001b[39;00m \u001b[39mas\u001b[39;00m \u001b[39mnp\u001b[39;00m\n",
      "\u001b[1;31mModuleNotFoundError\u001b[0m: No module named 'numpy'"
     ]
    }
   ],
   "source": [
    "import numpy as np"
   ]
  },
  {
   "cell_type": "code",
   "execution_count": 4,
   "metadata": {},
   "outputs": [
    {
     "name": "stdout",
     "output_type": "stream",
     "text": [
      "Collecting numpy\n",
      "  Downloading numpy-1.26.1-cp311-cp311-win_amd64.whl (15.8 MB)\n",
      "                                              0.0/15.8 MB ? eta -:--:--\n",
      "                                              0.1/15.8 MB 3.2 MB/s eta 0:00:05\n",
      "                                              0.1/15.8 MB 2.8 MB/s eta 0:00:06\n",
      "     -                                        0.5/15.8 MB 3.6 MB/s eta 0:00:05\n",
      "     -                                        0.6/15.8 MB 3.6 MB/s eta 0:00:05\n",
      "     --                                       0.9/15.8 MB 4.2 MB/s eta 0:00:04\n",
      "     --                                       1.0/15.8 MB 4.2 MB/s eta 0:00:04\n",
      "     --                                       1.0/15.8 MB 3.4 MB/s eta 0:00:05\n",
      "     ---                                      1.2/15.8 MB 3.6 MB/s eta 0:00:05\n",
      "     ---                                      1.5/15.8 MB 3.7 MB/s eta 0:00:04\n",
      "     ----                                     1.7/15.8 MB 3.9 MB/s eta 0:00:04\n",
      "     -----                                    2.0/15.8 MB 4.1 MB/s eta 0:00:04\n",
      "     -----                                    2.3/15.8 MB 4.4 MB/s eta 0:00:04\n",
      "     ------                                   2.5/15.8 MB 4.4 MB/s eta 0:00:04\n",
      "     -------                                  2.8/15.8 MB 4.6 MB/s eta 0:00:03\n",
      "     -------                                  3.1/15.8 MB 4.7 MB/s eta 0:00:03\n",
      "     --------                                 3.2/15.8 MB 4.6 MB/s eta 0:00:03\n",
      "     --------                                 3.5/15.8 MB 4.7 MB/s eta 0:00:03\n",
      "     ---------                                3.8/15.8 MB 4.7 MB/s eta 0:00:03\n",
      "     ----------                               4.1/15.8 MB 4.8 MB/s eta 0:00:03\n",
      "     -----------                              4.4/15.8 MB 4.9 MB/s eta 0:00:03\n",
      "     -----------                              4.6/15.8 MB 4.9 MB/s eta 0:00:03\n",
      "     ------------                             4.9/15.8 MB 5.0 MB/s eta 0:00:03\n",
      "     ------------                             5.1/15.8 MB 4.9 MB/s eta 0:00:03\n",
      "     -------------                            5.4/15.8 MB 5.1 MB/s eta 0:00:03\n",
      "     --------------                           5.6/15.8 MB 5.1 MB/s eta 0:00:03\n",
      "     ---------------                          6.0/15.8 MB 5.1 MB/s eta 0:00:02\n",
      "     ---------------                          6.2/15.8 MB 5.1 MB/s eta 0:00:02\n",
      "     ----------------                         6.5/15.8 MB 5.2 MB/s eta 0:00:02\n",
      "     -----------------                        6.8/15.8 MB 5.2 MB/s eta 0:00:02\n",
      "     -----------------                        7.0/15.8 MB 5.2 MB/s eta 0:00:02\n",
      "     ------------------                       7.3/15.8 MB 5.3 MB/s eta 0:00:02\n",
      "     -------------------                      7.5/15.8 MB 5.3 MB/s eta 0:00:02\n",
      "     -------------------                      7.9/15.8 MB 5.3 MB/s eta 0:00:02\n",
      "     --------------------                     8.2/15.8 MB 5.3 MB/s eta 0:00:02\n",
      "     ---------------------                    8.5/15.8 MB 5.4 MB/s eta 0:00:02\n",
      "     ----------------------                   8.7/15.8 MB 5.4 MB/s eta 0:00:02\n",
      "     ----------------------                   9.1/15.8 MB 5.4 MB/s eta 0:00:02\n",
      "     -----------------------                  9.2/15.8 MB 5.4 MB/s eta 0:00:02\n",
      "     ------------------------                 9.6/15.8 MB 5.5 MB/s eta 0:00:02\n",
      "     ------------------------                 9.9/15.8 MB 5.5 MB/s eta 0:00:02\n",
      "     -------------------------                10.2/15.8 MB 5.5 MB/s eta 0:00:02\n",
      "     --------------------------               10.5/15.8 MB 5.7 MB/s eta 0:00:01\n",
      "     ---------------------------              10.7/15.8 MB 5.7 MB/s eta 0:00:01\n",
      "     ---------------------------              10.8/15.8 MB 5.6 MB/s eta 0:00:01\n",
      "     ---------------------------              11.0/15.8 MB 5.6 MB/s eta 0:00:01\n",
      "     ----------------------------             11.1/15.8 MB 5.5 MB/s eta 0:00:01\n",
      "     -----------------------------            11.5/15.8 MB 5.8 MB/s eta 0:00:01\n",
      "     -----------------------------            11.8/15.8 MB 5.8 MB/s eta 0:00:01\n",
      "     ------------------------------           12.1/15.8 MB 5.8 MB/s eta 0:00:01\n",
      "     -------------------------------          12.4/15.8 MB 5.8 MB/s eta 0:00:01\n",
      "     --------------------------------         12.7/15.8 MB 6.0 MB/s eta 0:00:01\n",
      "     --------------------------------         13.0/15.8 MB 6.0 MB/s eta 0:00:01\n",
      "     ---------------------------------        13.2/15.8 MB 5.9 MB/s eta 0:00:01\n",
      "     ----------------------------------       13.5/15.8 MB 6.0 MB/s eta 0:00:01\n",
      "     -----------------------------------      13.8/15.8 MB 6.0 MB/s eta 0:00:01\n",
      "     -----------------------------------      14.2/15.8 MB 6.1 MB/s eta 0:00:01\n",
      "     ------------------------------------     14.4/15.8 MB 6.1 MB/s eta 0:00:01\n",
      "     -------------------------------------    14.7/15.8 MB 6.1 MB/s eta 0:00:01\n",
      "     -------------------------------------    14.8/15.8 MB 6.0 MB/s eta 0:00:01\n",
      "     --------------------------------------   15.1/15.8 MB 6.0 MB/s eta 0:00:01\n",
      "     ---------------------------------------  15.5/15.8 MB 6.1 MB/s eta 0:00:01\n",
      "     ---------------------------------------  15.7/15.8 MB 6.1 MB/s eta 0:00:01\n",
      "     ---------------------------------------  15.8/15.8 MB 6.1 MB/s eta 0:00:01\n",
      "     ---------------------------------------- 15.8/15.8 MB 6.0 MB/s eta 0:00:00\n",
      "Installing collected packages: numpy\n",
      "Successfully installed numpy-1.26.1\n",
      "Note: you may need to restart the kernel to use updated packages.\n"
     ]
    },
    {
     "name": "stderr",
     "output_type": "stream",
     "text": [
      "  WARNING: The script f2py.exe is installed in 'c:\\Users\\bhara\\AppData\\Local\\Programs\\Python\\Python311\\Scripts' which is not on PATH.\n",
      "  Consider adding this directory to PATH or, if you prefer to suppress this warning, use --no-warn-script-location.\n",
      "\n",
      "[notice] A new release of pip is available: 23.1.2 -> 23.3.1\n",
      "[notice] To update, run: python.exe -m pip install --upgrade pip\n"
     ]
    }
   ],
   "source": [
    "# %pip install numpy"
   ]
  },
  {
   "cell_type": "code",
   "execution_count": 5,
   "metadata": {},
   "outputs": [],
   "source": [
    "import numpy as np"
   ]
  },
  {
   "cell_type": "code",
   "execution_count": null,
   "metadata": {},
   "outputs": [],
   "source": []
  }
 ],
 "metadata": {
  "kernelspec": {
   "display_name": "Python 3",
   "language": "python",
   "name": "python3"
  },
  "language_info": {
   "codemirror_mode": {
    "name": "ipython",
    "version": 3
   },
   "file_extension": ".py",
   "mimetype": "text/x-python",
   "name": "python",
   "nbconvert_exporter": "python",
   "pygments_lexer": "ipython3",
   "version": "3.11.4"
  }
 },
 "nbformat": 4,
 "nbformat_minor": 2
}
